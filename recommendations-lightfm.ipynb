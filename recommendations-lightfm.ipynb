{
 "cells": [
  {
   "cell_type": "markdown",
   "execution_count": null,
   "metadata": {},
   "source": [
    "# Построение рекомендательной системы\n",
    "[Ссылка на учебное соревнование SkillFactory](https://www.kaggle.com/c/recommendationsv4)\n",
    "\n",
    "### Какой кейс решаем?\n",
    "\n",
    "Необходимо реализовать алгоритм построения рекомендательной системы на основе истории оценок пользователей для товаров.\n",
    "\n",
    "Для оценки качества модели будет использоваться метрика RocAuc. Это одна из самых популярных метрик в задачах бинарной классификации поскольку мы хотим предсказывать, понравится ли товар пользователю или нет.\n",
    "\n",
    "В качестве алгоритма для построения рекомендаций после ряда экспериментов был выбран LightFM."
   ]
  },
  {
   "cell_type": "markdown",
   "execution_count": null,
   "metadata": {},
   "source": [
    "## 1.Импорт библиотек и подготовка данных"
   ]
  },
  {
   "cell_type": "code",
   "execution_count": 1,
   "metadata": {
    "id": "rQA6VkpF4XDL",
    "outputId": "dd5ad178-fd1f-4414-805d-0fc97b665bb7"
   },
   "outputs": [],
   "source": [
    "#from google.colab import drive\n",
    "#drive.mount('/content/drive')"
   ]
  },
  {
   "cell_type": "code",
   "execution_count": 2,
   "metadata": {
    "_cell_guid": "b1076dfc-b9ad-4769-8c92-a6c4dae69d19",
    "_kg_hide-input": true,
    "_uuid": "8f2839f25d086af736a60e9eeb907d3b93b6e0e5",
    "id": "Eya4A9LegusD"
   },
   "outputs": [
    {
     "name": "stdout",
     "output_type": "stream",
     "text": [
      "/kaggle/input/recommendationsv4/train.csv\n",
      "/kaggle/input/recommendationsv4/meta_Grocery_and_Gourmet_Food.json\n",
      "/kaggle/input/recommendationsv4/test.csv\n",
      "/kaggle/input/recommendationsv4/sample_submission.csv\n"
     ]
    }
   ],
   "source": [
    "import numpy as np # linear algebra\n",
    "import pandas as pd # data processing, CSV file I/O (e.g. pd.read_csv)\n",
    "\n",
    "import numpy as np # linear algebra\n",
    "import pandas as pd # data processing, CSV file I/O (e.g. pd.read_csv)\n",
    "\n",
    "import os\n",
    "for dirname, _, filenames in os.walk('/kaggle/input'):\n",
    "    for filename in filenames:\n",
    "        print(os.path.join(dirname, filename))\n",
    "\n",
    "import warnings\n",
    "warnings.filterwarnings('ignore')\n",
    "\n",
    "#Для визуализации\n",
    "import seaborn as sns\n",
    "import matplotlib.pyplot as plt\n",
    "\n",
    "pd.set_option('display.max_columns', None)\n",
    "pd.set_option('display.max_rows', None)\n",
    "\n",
    "#Для моделирования\n",
    "import scipy.sparse as sparse\n",
    "from lightfm import LightFM\n",
    "from lightfm.data import Dataset\n",
    "from lightfm.cross_validation import random_train_test_split\n",
    "from lightfm.evaluation import auc_score, precision_at_k, recall_at_k\n",
    "import sklearn\n",
    "from sklearn.model_selection import train_test_split\n",
    "from sklearn.metrics.pairwise import cosine_similarity\n",
    "from sklearn.metrics import roc_auc_score\n",
    "\n",
    "\n",
    "# зафиксируем версию пакетов для дальнейшей записи в heroku\n",
    "!pip freeze > requirements.txt"
   ]
  },
  {
   "cell_type": "code",
   "execution_count": 3,
   "metadata": {
    "id": "YlSphnJFgusK"
   },
   "outputs": [],
   "source": [
    "#train = pd.read_csv('/content/drive/My Drive/Colab Notebooks/recommendationsv4/train.csv')\n",
    "#test = pd.read_csv('/content/drive/My Drive/Colab Notebooks/recommendationsv4/test.csv')\n",
    "#submission = pd.read_csv('/content/drive/My Drive/Colab Notebooks/recommendationsv4/sample_submission.csv')"
   ]
  },
  {
   "cell_type": "code",
   "execution_count": 4,
   "metadata": {},
   "outputs": [],
   "source": [
    "train = pd.read_csv('/kaggle/input/recommendationsv4/train.csv')\n",
    "test = pd.read_csv('/kaggle/input/recommendationsv4/test.csv')\n",
    "submission = pd.read_csv('/kaggle/input/recommendationsv4/sample_submission.csv')"
   ]
  },
  {
   "cell_type": "markdown",
   "execution_count": null,
   "metadata": {},
   "source": [
    "Посмотрим на мета-словарь для продуктов:"
   ]
  },
  {
   "cell_type": "code",
   "execution_count": 5,
   "metadata": {
    "_kg_hide-input": true,
    "id": "yg1XAIC4myLm"
   },
   "outputs": [],
   "source": [
    "with open('/kaggle/input/recommendationsv4/meta_Grocery_and_Gourmet_Food.json', 'r') as f:\n",
    "    data = f.readlines()\n",
    "\n",
    "# remove the trailing \"\\n\" from each line\n",
    "data = map(lambda x: x.rstrip(), data)\n",
    "data_json_str = \"[\" + ','.join(data) + \"]\"\n",
    "\n",
    "# now, load it into pandas\n",
    "food_dict = pd.read_json(data_json_str)"
   ]
  },
  {
   "cell_type": "code",
   "execution_count": 6,
   "metadata": {
    "_kg_hide-input": true
   },
   "outputs": [
    {
     "name": "stdout",
     "output_type": "stream",
     "text": [
      "<class 'pandas.core.frame.DataFrame'>\n",
      "RangeIndex: 287209 entries, 0 to 287208\n",
      "Data columns (total 17 columns):\n",
      " #   Column        Non-Null Count   Dtype \n",
      "---  ------        --------------   ----- \n",
      " 0   category      287209 non-null  object\n",
      " 1   description   251802 non-null  object\n",
      " 2   title         287205 non-null  object\n",
      " 3   brand         275787 non-null  object\n",
      " 4   rank          275494 non-null  object\n",
      " 5   also_view     121012 non-null  object\n",
      " 6   main_cat      285716 non-null  object\n",
      " 7   price         132136 non-null  object\n",
      " 8   asin          287209 non-null  object\n",
      " 9   also_buy      83332 non-null   object\n",
      " 10  image         150214 non-null  object\n",
      " 11  date          9663 non-null    object\n",
      " 12  feature       16374 non-null   object\n",
      " 13  details       273323 non-null  object\n",
      " 14  similar_item  256 non-null     object\n",
      " 15  tech1         744 non-null     object\n",
      " 16  fit           4 non-null       object\n",
      "dtypes: object(17)\n",
      "memory usage: 37.3+ MB\n"
     ]
    }
   ],
   "source": [
    "food_dict.info()"
   ]
  },
  {
   "cell_type": "code",
   "execution_count": 7,
   "metadata": {},
   "outputs": [],
   "source": [
    "#Формирую отдельно датасет,чтобы добавить к тренировочной выборке доп. поля main_cat, brand, price\n",
    "fd2=food_dict[['asin', 'main_cat','brand', 'price']]"
   ]
  },
  {
   "cell_type": "markdown",
   "execution_count": null,
   "metadata": {},
   "source": [
    "В словаре есть порядка 3,8к дубликатов, удалим их и также впоследствии проверим на их наличие трейн. Также поработаем над пропусками в мета-словаре"
   ]
  },
  {
   "cell_type": "code",
   "execution_count": 8,
   "metadata": {},
   "outputs": [],
   "source": [
    "fd2=fd2.drop_duplicates(keep='first')\n",
    "\n",
    "fd2['main_cat'].fillna('NaN', inplace = True)\n",
    "fd2['brand'].fillna('NaN', inplace = True)\n",
    "fd2['price'].fillna('NaN', inplace = True)"
   ]
  },
  {
   "cell_type": "markdown",
   "execution_count": null,
   "metadata": {},
   "source": [
    "## 2. EDA"
   ]
  },
  {
   "cell_type": "markdown",
   "execution_count": null,
   "metadata": {
    "id": "0lNCoIv-Z8I1"
   },
   "source": [
    "Переходим от словаря к анализу тренировочной и тестовой выборок. Посмотрим на исходные данные, основные статистики, а также наличие пропусков в столбцах"
   ]
  },
  {
   "cell_type": "code",
   "execution_count": 9,
   "metadata": {
    "_kg_hide-input": true
   },
   "outputs": [
    {
     "data": {
      "text/html": [
       "<div>\n",
       "<style scoped>\n",
       "    .dataframe tbody tr th:only-of-type {\n",
       "        vertical-align: middle;\n",
       "    }\n",
       "\n",
       "    .dataframe tbody tr th {\n",
       "        vertical-align: top;\n",
       "    }\n",
       "\n",
       "    .dataframe thead tr th {\n",
       "        text-align: left;\n",
       "    }\n",
       "</style>\n",
       "<table border=\"1\" class=\"dataframe\">\n",
       "  <thead>\n",
       "    <tr>\n",
       "      <th></th>\n",
       "      <th colspan=\"4\" halign=\"left\">↓ Train ↓ (857895, 14)</th>\n",
       "      <th colspan=\"4\" halign=\"left\">↓ Test ↓ (285965, 11)</th>\n",
       "    </tr>\n",
       "    <tr>\n",
       "      <th></th>\n",
       "      <th>dtypes</th>\n",
       "      <th>nunique</th>\n",
       "      <th>isna</th>\n",
       "      <th>loc[0]</th>\n",
       "      <th>dtypes</th>\n",
       "      <th>nunique</th>\n",
       "      <th>isna</th>\n",
       "      <th>loc[0]</th>\n",
       "    </tr>\n",
       "  </thead>\n",
       "  <tbody>\n",
       "    <tr>\n",
       "      <th>overall</th>\n",
       "      <td>float64</td>\n",
       "      <td>5.0</td>\n",
       "      <td>0.0</td>\n",
       "      <td>5</td>\n",
       "      <td>NaN</td>\n",
       "      <td>NaN</td>\n",
       "      <td>NaN</td>\n",
       "      <td>NaN</td>\n",
       "    </tr>\n",
       "    <tr>\n",
       "      <th>verified</th>\n",
       "      <td>bool</td>\n",
       "      <td>2.0</td>\n",
       "      <td>0.0</td>\n",
       "      <td>True</td>\n",
       "      <td>bool</td>\n",
       "      <td>2.0</td>\n",
       "      <td>0.0</td>\n",
       "      <td>True</td>\n",
       "    </tr>\n",
       "    <tr>\n",
       "      <th>reviewTime</th>\n",
       "      <td>object</td>\n",
       "      <td>4580.0</td>\n",
       "      <td>0.0</td>\n",
       "      <td>10 4, 2016</td>\n",
       "      <td>object</td>\n",
       "      <td>4349.0</td>\n",
       "      <td>0.0</td>\n",
       "      <td>10 1, 2016</td>\n",
       "    </tr>\n",
       "    <tr>\n",
       "      <th>asin</th>\n",
       "      <td>object</td>\n",
       "      <td>41302.0</td>\n",
       "      <td>0.0</td>\n",
       "      <td>B01CPNIEQG</td>\n",
       "      <td>object</td>\n",
       "      <td>37876.0</td>\n",
       "      <td>0.0</td>\n",
       "      <td>B001E5E3X0</td>\n",
       "    </tr>\n",
       "    <tr>\n",
       "      <th>reviewerName</th>\n",
       "      <td>object</td>\n",
       "      <td>101207.0</td>\n",
       "      <td>176.0</td>\n",
       "      <td>Heather</td>\n",
       "      <td>object</td>\n",
       "      <td>86815.0</td>\n",
       "      <td>47.0</td>\n",
       "      <td>Rudys Mom</td>\n",
       "    </tr>\n",
       "    <tr>\n",
       "      <th>reviewText</th>\n",
       "      <td>object</td>\n",
       "      <td>686739.0</td>\n",
       "      <td>279.0</td>\n",
       "      <td>These are my FAVORITE spices in my collection....</td>\n",
       "      <td>NaN</td>\n",
       "      <td>NaN</td>\n",
       "      <td>NaN</td>\n",
       "      <td>NaN</td>\n",
       "    </tr>\n",
       "    <tr>\n",
       "      <th>summary</th>\n",
       "      <td>object</td>\n",
       "      <td>411451.0</td>\n",
       "      <td>170.0</td>\n",
       "      <td>Must Add to your Spice kitchen!</td>\n",
       "      <td>NaN</td>\n",
       "      <td>NaN</td>\n",
       "      <td>NaN</td>\n",
       "      <td>NaN</td>\n",
       "    </tr>\n",
       "    <tr>\n",
       "      <th>unixReviewTime</th>\n",
       "      <td>int64</td>\n",
       "      <td>4580.0</td>\n",
       "      <td>0.0</td>\n",
       "      <td>1475539200</td>\n",
       "      <td>int64</td>\n",
       "      <td>4349.0</td>\n",
       "      <td>0.0</td>\n",
       "      <td>1475280000</td>\n",
       "    </tr>\n",
       "    <tr>\n",
       "      <th>vote</th>\n",
       "      <td>object</td>\n",
       "      <td>477.0</td>\n",
       "      <td>739155.0</td>\n",
       "      <td>NaN</td>\n",
       "      <td>object</td>\n",
       "      <td>304.0</td>\n",
       "      <td>246503.0</td>\n",
       "      <td>NaN</td>\n",
       "    </tr>\n",
       "    <tr>\n",
       "      <th>style</th>\n",
       "      <td>object</td>\n",
       "      <td>25892.0</td>\n",
       "      <td>413489.0</td>\n",
       "      <td>NaN</td>\n",
       "      <td>object</td>\n",
       "      <td>18904.0</td>\n",
       "      <td>138285.0</td>\n",
       "      <td>NaN</td>\n",
       "    </tr>\n",
       "    <tr>\n",
       "      <th>image</th>\n",
       "      <td>object</td>\n",
       "      <td>6636.0</td>\n",
       "      <td>850753.0</td>\n",
       "      <td>NaN</td>\n",
       "      <td>object</td>\n",
       "      <td>2306.0</td>\n",
       "      <td>283597.0</td>\n",
       "      <td>NaN</td>\n",
       "    </tr>\n",
       "    <tr>\n",
       "      <th>userid</th>\n",
       "      <td>int64</td>\n",
       "      <td>127448.0</td>\n",
       "      <td>0.0</td>\n",
       "      <td>102179</td>\n",
       "      <td>int64</td>\n",
       "      <td>109357.0</td>\n",
       "      <td>0.0</td>\n",
       "      <td>68877</td>\n",
       "    </tr>\n",
       "    <tr>\n",
       "      <th>itemid</th>\n",
       "      <td>int64</td>\n",
       "      <td>41302.0</td>\n",
       "      <td>0.0</td>\n",
       "      <td>37138</td>\n",
       "      <td>int64</td>\n",
       "      <td>37876.0</td>\n",
       "      <td>0.0</td>\n",
       "      <td>7506</td>\n",
       "    </tr>\n",
       "    <tr>\n",
       "      <th>rating</th>\n",
       "      <td>float64</td>\n",
       "      <td>2.0</td>\n",
       "      <td>0.0</td>\n",
       "      <td>1</td>\n",
       "      <td>NaN</td>\n",
       "      <td>NaN</td>\n",
       "      <td>NaN</td>\n",
       "      <td>NaN</td>\n",
       "    </tr>\n",
       "    <tr>\n",
       "      <th>Id</th>\n",
       "      <td>NaN</td>\n",
       "      <td>NaN</td>\n",
       "      <td>NaN</td>\n",
       "      <td>NaN</td>\n",
       "      <td>int64</td>\n",
       "      <td>285965.0</td>\n",
       "      <td>0.0</td>\n",
       "      <td>0</td>\n",
       "    </tr>\n",
       "  </tbody>\n",
       "</table>\n",
       "</div>"
      ],
      "text/plain": [
       "               ↓ Train ↓ (857895, 14)                      \\\n",
       "                               dtypes   nunique      isna   \n",
       "overall                       float64       5.0       0.0   \n",
       "verified                         bool       2.0       0.0   \n",
       "reviewTime                     object    4580.0       0.0   \n",
       "asin                           object   41302.0       0.0   \n",
       "reviewerName                   object  101207.0     176.0   \n",
       "reviewText                     object  686739.0     279.0   \n",
       "summary                        object  411451.0     170.0   \n",
       "unixReviewTime                  int64    4580.0       0.0   \n",
       "vote                           object     477.0  739155.0   \n",
       "style                          object   25892.0  413489.0   \n",
       "image                          object    6636.0  850753.0   \n",
       "userid                          int64  127448.0       0.0   \n",
       "itemid                          int64   41302.0       0.0   \n",
       "rating                        float64       2.0       0.0   \n",
       "Id                                NaN       NaN       NaN   \n",
       "\n",
       "                                                                   \\\n",
       "                                                           loc[0]   \n",
       "overall                                                         5   \n",
       "verified                                                     True   \n",
       "reviewTime                                             10 4, 2016   \n",
       "asin                                                   B01CPNIEQG   \n",
       "reviewerName                                              Heather   \n",
       "reviewText      These are my FAVORITE spices in my collection....   \n",
       "summary                           Must Add to your Spice kitchen!   \n",
       "unixReviewTime                                         1475539200   \n",
       "vote                                                          NaN   \n",
       "style                                                         NaN   \n",
       "image                                                         NaN   \n",
       "userid                                                     102179   \n",
       "itemid                                                      37138   \n",
       "rating                                                          1   \n",
       "Id                                                            NaN   \n",
       "\n",
       "               ↓ Test ↓ (285965, 11)                                  \n",
       "                              dtypes   nunique      isna      loc[0]  \n",
       "overall                          NaN       NaN       NaN         NaN  \n",
       "verified                        bool       2.0       0.0        True  \n",
       "reviewTime                    object    4349.0       0.0  10 1, 2016  \n",
       "asin                          object   37876.0       0.0  B001E5E3X0  \n",
       "reviewerName                  object   86815.0      47.0   Rudys Mom  \n",
       "reviewText                       NaN       NaN       NaN         NaN  \n",
       "summary                          NaN       NaN       NaN         NaN  \n",
       "unixReviewTime                 int64    4349.0       0.0  1475280000  \n",
       "vote                          object     304.0  246503.0         NaN  \n",
       "style                         object   18904.0  138285.0         NaN  \n",
       "image                         object    2306.0  283597.0         NaN  \n",
       "userid                         int64  109357.0       0.0       68877  \n",
       "itemid                         int64   37876.0       0.0        7506  \n",
       "rating                           NaN       NaN       NaN         NaN  \n",
       "Id                             int64  285965.0       0.0           0  "
      ]
     },
     "execution_count": 9,
     "metadata": {},
     "output_type": "execute_result"
    }
   ],
   "source": [
    "def param_data(data): # посмотрим на данные\n",
    "    \"\"\"dataset required parameters \"\"\"\n",
    "    param = pd.DataFrame({\n",
    "              'dtypes': data.dtypes.values,\n",
    "              'nunique': data.nunique().values,\n",
    "              'isna': data.isna().sum().values,\n",
    "              'loc[0]': data.loc[0].values,\n",
    "              }, \n",
    "             index = data.loc[0].index)\n",
    "    return param\n",
    "\n",
    "pd.concat([param_data(train), param_data(test)], \n",
    "          axis=1, \n",
    "          keys = [f'↓ Train ↓ {train.shape}', f'↓ Test ↓ {test.shape}'],  \n",
    "          sort=False)"
   ]
  },
  {
   "cell_type": "code",
   "execution_count": 10,
   "metadata": {
    "_kg_hide-input": true
   },
   "outputs": [],
   "source": [
    "#удаляю дубликаты в тренировочной выборке, после удаления вместо 857895 строк остается 828935\n",
    "#train.drop_duplicates(keep='first',inplace=True)\n",
    "#print('Размер тренировочной выборки:', train.shape)"
   ]
  },
  {
   "cell_type": "markdown",
   "execution_count": null,
   "metadata": {},
   "source": [
    "Оценим визуально пропуски в данных:"
   ]
  },
  {
   "cell_type": "code",
   "execution_count": 11,
   "metadata": {
    "_kg_hide-input": true
   },
   "outputs": [
    {
     "data": {
      "image/png": "[encoded data removed]",
      "text/plain": [
       "<Figure size 432x288 with 2 Axes>"
      ]
     },
     "metadata": {
      "needs_background": "light"
     },
     "output_type": "display_data"
    },
    {
     "data": {
      "image/png": "[encoded data removed]",
      "text/plain": [
       "<Figure size 432x288 with 2 Axes>"
      ]
     },
     "metadata": {
      "needs_background": "light"
     },
     "output_type": "display_data"
    }
   ],
   "source": [
    "def viz_na(data):\n",
    "    \"\"\"NA visualisation\"\"\"\n",
    "    global cols\n",
    "    cols = data.columns # запишем названия строки сделаем переменную глобальной\n",
    "    # определяем цвета \n",
    "    # желтый - пропущенные данные, синий - не пропущенные\n",
    "    colours = ['#000099', '#ffff00'] \n",
    "    sns.heatmap(data[cols].isnull(), cmap=sns.color_palette(colours))\n",
    "    plt.show()\n",
    "\n",
    "\n",
    "viz_na(train)\n",
    "viz_na(test)"
   ]
  },
  {
   "cell_type": "markdown",
   "execution_count": null,
   "metadata": {},
   "source": [
    "Теперь посмотрим на пропуски более детально:"
   ]
  },
  {
   "cell_type": "code",
   "execution_count": 12,
   "metadata": {
    "_kg_hide-input": true,
    "id": "7-NBxkzWjQpO",
    "outputId": "479319aa-e810-4d9f-d993-22b2a1d98582"
   },
   "outputs": [
    {
     "name": "stdout",
     "output_type": "stream",
     "text": [
      "(857895, 14)\n",
      "overall - 0.0%\n",
      "verified - 0.0%\n",
      "reviewTime - 0.0%\n",
      "asin - 0.0%\n",
      "reviewerName - 0.0%\n",
      "reviewText - 0.0%\n",
      "summary - 0.0%\n",
      "unixReviewTime - 0.0%\n",
      "vote - 86.0%\n",
      "style - 48.0%\n",
      "image - 99.0%\n",
      "userid - 0.0%\n",
      "itemid - 0.0%\n",
      "rating - 0.0%\n",
      "END\n",
      "\n",
      "(285965, 11)\n",
      "verified - 0.0%\n",
      "reviewTime - 0.0%\n",
      "asin - 0.0%\n",
      "reviewerName - 0.0%\n",
      "unixReviewTime - 0.0%\n",
      "vote - 86.0%\n",
      "style - 48.0%\n",
      "image - 99.0%\n",
      "userid - 0.0%\n",
      "itemid - 0.0%\n",
      "Id - 0.0%\n",
      "END\n",
      "\n"
     ]
    }
   ],
   "source": [
    "def stat_na_per_percent(data):\n",
    "    print(f'{data.shape}')\n",
    "    for col in data.columns:\n",
    "        pct_missing = np.mean(data[col].isnull())\n",
    "        print('{} - {}%'.format(col, round(pct_missing*100)))\n",
    "    print(\"END\", end = '\\n\\n')\n",
    "stat_na_per_percent(train)\n",
    "stat_na_per_percent(test)\n"
   ]
  },
  {
   "cell_type": "markdown",
   "execution_count": null,
   "metadata": {
    "id": "6ZylOe36kbls"
   },
   "source": [
    "Посмотрим на целевую переменную, пользователей, продукты:"
   ]
  },
  {
   "cell_type": "code",
   "execution_count": 13,
   "metadata": {
    "_kg_hide-input": true,
    "id": "uVRLBI_VjozJ",
    "outputId": "8d4704a0-e8b7-46ed-b643-f32a38928c01"
   },
   "outputs": [
    {
     "name": "stdout",
     "output_type": "stream",
     "text": [
      "Число уникальных пользователей: 127448\n",
      "Число уникальных товаров: 41302\n"
     ]
    }
   ],
   "source": [
    "print('Число уникальных пользователей:', train['userid'].nunique())\n",
    "print('Число уникальных товаров:', train['itemid'].nunique())"
   ]
  },
  {
   "cell_type": "code",
   "execution_count": 14,
   "metadata": {},
   "outputs": [
    {
     "data": {
      "image/png": "[encoded data removed]",
      "text/plain": [
       "<Figure size 432x288 with 1 Axes>"
      ]
     },
     "metadata": {
      "needs_background": "light"
     },
     "output_type": "display_data"
    }
   ],
   "source": [
    "#Оценим пропорцию классов в целевой переменной\n",
    "sns.countplot(train['rating']);"
   ]
  },
  {
   "cell_type": "markdown",
   "execution_count": null,
   "metadata": {},
   "source": [
    "Видим, что в целевой переменной преобладают данные о рейтингах от 4 и выше"
   ]
  },
  {
   "cell_type": "markdown",
   "execution_count": null,
   "metadata": {},
   "source": [
    "Посмотрим на наиболее популярные в трейне продукты:"
   ]
  },
  {
   "cell_type": "code",
   "execution_count": 15,
   "metadata": {
    "_kg_hide-input": true,
    "id": "fYM9XoCojlsj",
    "outputId": "3ce6c056-b44e-4413-e8e4-714741225248"
   },
   "outputs": [
    {
     "data": {
      "text/plain": [
       "<matplotlib.axes._subplots.AxesSubplot at 0x7f5ce8eace50>"
      ]
     },
     "execution_count": 15,
     "metadata": {},
     "output_type": "execute_result"
    },
    {
     "data": {
      "image/png": "[encoded data removed]",
      "text/plain": [
       "<Figure size 432x288 with 1 Axes>"
      ]
     },
     "metadata": {
      "needs_background": "light"
     },
     "output_type": "display_data"
    }
   ],
   "source": [
    "#посмотрим на наиболее популярные в трейне продукты\n",
    "popular_products = pd.DataFrame(train.groupby('itemid')['rating'].count())\n",
    "most_popular = popular_products.sort_values('rating', ascending=False)\n",
    "#most_popular.head(10)\n",
    "most_popular.head(30).plot(kind = \"bar\")"
   ]
  },
  {
   "cell_type": "markdown",
   "execution_count": null,
   "metadata": {
    "id": "vE6M4ynfkxP8"
   },
   "source": [
    "График отображает продажи наиболее популярных продуктов. как видно ,есть топ 3 продукта, число рейтингов которых сильно отличаются от остальных"
   ]
  },
  {
   "cell_type": "markdown",
   "execution_count": null,
   "metadata": {},
   "source": [
    "Посмотрим на пользователей, который выставляли больше всего оценок:"
   ]
  },
  {
   "cell_type": "code",
   "execution_count": 16,
   "metadata": {
    "_kg_hide-input": true,
    "id": "vSGCVRKnknH8",
    "outputId": "8a0018d8-684b-44b4-99fe-95597f5531fb"
   },
   "outputs": [
    {
     "data": {
      "text/plain": [
       "<matplotlib.axes._subplots.AxesSubplot at 0x7f5ce8dfe890>"
      ]
     },
     "execution_count": 16,
     "metadata": {},
     "output_type": "execute_result"
    },
    {
     "data": {
      "image/png": "[encoded data removed]",
      "text/plain": [
       "<Figure size 432x288 with 1 Axes>"
      ]
     },
     "metadata": {
      "needs_background": "light"
     },
     "output_type": "display_data"
    }
   ],
   "source": [
    "#посмотрим на пользователей, который выставляли больше всего оценок\n",
    "users = pd.DataFrame(train.groupby('userid')['rating'].count())\n",
    "active_users = users.head(30).sort_values('rating', ascending=False)\n",
    "active_users.head(30).plot(kind = \"bar\")"
   ]
  },
  {
   "cell_type": "markdown",
   "execution_count": null,
   "metadata": {},
   "source": [
    "## 3.Feature Engineering"
   ]
  },
  {
   "cell_type": "code",
   "execution_count": 17,
   "metadata": {},
   "outputs": [],
   "source": [
    "#Импортируем энкодер для дальнейшей работы с кат.фичами\n",
    "from sklearn.preprocessing import LabelEncoder\n",
    "\n",
    "labelencoder = LabelEncoder()"
   ]
  },
  {
   "cell_type": "code",
   "execution_count": 18,
   "metadata": {},
   "outputs": [],
   "source": [
    "#Определим функцию для предобработки тренировочных и тестовых данных\n",
    "\n",
    "def data_preparation(df):\n",
    "    \n",
    "    #добавляю по ключу asin в выборку доп.поля из мета-словаря\n",
    "    df = pd.merge(df, fd2, how='left', on='asin')\n",
    "   \n",
    "    #обрабатываю поля с датами\n",
    "    df['reviewTime'] = pd.to_datetime(df['reviewTime'])\n",
    "    df['unixReviewTime'] = pd.to_datetime(df['unixReviewTime'], unit='s')\n",
    "    \n",
    "    #готовим в трейне поле для формирования матрицы sample_weights, в тесте его использовать не будем\n",
    "    oldest_review = df['reviewTime'].min()\n",
    "    df['weights'] = (df['reviewTime'] - oldest_review).dt.days + 1\n",
    "   \n",
    "    # добавляю поле с числом дней\n",
    "    df['DaysPassed'] = (pd.datetime.now() - df['unixReviewTime']).dt.days\n",
    "    \n",
    "    #добавляю поля с числом пользователей и продуктов\n",
    "    df['num_of_items_per_user'] = df.groupby(['userid'])['itemid'].transform('count')\n",
    "    df['num_of_users_per_item'] = df.groupby(['itemid'])['userid'].transform('count')\n",
    "\n",
    "    #Конвертирую verified в int\n",
    "    df['verified']=df['verified'].astype('int64')\n",
    "\n",
    "\n",
    "    for feature in ['brand','main_cat']:\n",
    "        df[feature] = labelencoder.fit_transform(df[feature]) \n",
    "\n",
    "    df.vote=df['vote'].replace('\\,','',regex=True).astype(float)\n",
    "    df.vote=df['vote'].replace('\\'','',regex=True).astype(float)\n",
    "    df['vote'].fillna(0,inplace=True)\n",
    "\n",
    "    df['price']=df['price'].replace('\\$','',regex=True)\n",
    "    df['price']= labelencoder.fit_transform(df['price']) \n",
    "\n",
    "    df['ft1'] = df['unixReviewTime'].dt.weekday+df['verified']\n",
    "    df['ft2'] = df['unixReviewTime'].dt.weekday*df['DaysPassed']\n",
    "    \n",
    "    for feature in ['vote','ft1','ft2','main_cat','brand','price','num_of_items_per_user','num_of_users_per_item','DaysPassed','weights']:\n",
    "        df[feature]=(df[feature] - df[feature].min())/(df[feature] - df[feature].min()).max()\n",
    "    \n",
    "    return df"
   ]
  },
  {
   "cell_type": "markdown",
   "execution_count": null,
   "metadata": {},
   "source": [
    "Обработаем трейн:"
   ]
  },
  {
   "cell_type": "code",
   "execution_count": 19,
   "metadata": {
    "_kg_hide-input": true
   },
   "outputs": [
    {
     "data": {
      "text/html": [
       "<div>\n",
       "<style scoped>\n",
       "    .dataframe tbody tr th:only-of-type {\n",
       "        vertical-align: middle;\n",
       "    }\n",
       "\n",
       "    .dataframe tbody tr th {\n",
       "        vertical-align: top;\n",
       "    }\n",
       "\n",
       "    .dataframe thead th {\n",
       "        text-align: right;\n",
       "    }\n",
       "</style>\n",
       "<table border=\"1\" class=\"dataframe\">\n",
       "  <thead>\n",
       "    <tr style=\"text-align: right;\">\n",
       "      <th></th>\n",
       "      <th>userid</th>\n",
       "      <th>itemid</th>\n",
       "      <th>vote</th>\n",
       "      <th>main_cat</th>\n",
       "      <th>brand</th>\n",
       "      <th>price</th>\n",
       "      <th>DaysPassed</th>\n",
       "      <th>num_of_items_per_user</th>\n",
       "      <th>num_of_users_per_item</th>\n",
       "      <th>ft1</th>\n",
       "      <th>ft2</th>\n",
       "      <th>weights</th>\n",
       "      <th>rating</th>\n",
       "    </tr>\n",
       "  </thead>\n",
       "  <tbody>\n",
       "    <tr>\n",
       "      <th>0</th>\n",
       "      <td>102179</td>\n",
       "      <td>37138</td>\n",
       "      <td>0.00000</td>\n",
       "      <td>0.352941</td>\n",
       "      <td>0.699413</td>\n",
       "      <td>0.988915</td>\n",
       "      <td>0.109837</td>\n",
       "      <td>0.011521</td>\n",
       "      <td>0.001275</td>\n",
       "      <td>0.285714</td>\n",
       "      <td>0.037089</td>\n",
       "      <td>0.890163</td>\n",
       "      <td>1.0</td>\n",
       "    </tr>\n",
       "    <tr>\n",
       "      <th>1</th>\n",
       "      <td>3625</td>\n",
       "      <td>17322</td>\n",
       "      <td>0.00000</td>\n",
       "      <td>0.352941</td>\n",
       "      <td>0.846267</td>\n",
       "      <td>0.202999</td>\n",
       "      <td>0.142577</td>\n",
       "      <td>0.105991</td>\n",
       "      <td>0.012022</td>\n",
       "      <td>0.285714</td>\n",
       "      <td>0.043100</td>\n",
       "      <td>0.857423</td>\n",
       "      <td>1.0</td>\n",
       "    </tr>\n",
       "    <tr>\n",
       "      <th>2</th>\n",
       "      <td>39495</td>\n",
       "      <td>5600</td>\n",
       "      <td>0.01722</td>\n",
       "      <td>0.352941</td>\n",
       "      <td>0.894203</td>\n",
       "      <td>1.000000</td>\n",
       "      <td>0.124925</td>\n",
       "      <td>0.029954</td>\n",
       "      <td>0.193078</td>\n",
       "      <td>1.000000</td>\n",
       "      <td>0.239156</td>\n",
       "      <td>0.875075</td>\n",
       "      <td>1.0</td>\n",
       "    </tr>\n",
       "    <tr>\n",
       "      <th>3</th>\n",
       "      <td>72854</td>\n",
       "      <td>30249</td>\n",
       "      <td>0.00000</td>\n",
       "      <td>0.352941</td>\n",
       "      <td>0.308707</td>\n",
       "      <td>0.715062</td>\n",
       "      <td>0.279572</td>\n",
       "      <td>0.018433</td>\n",
       "      <td>0.040619</td>\n",
       "      <td>0.571429</td>\n",
       "      <td>0.204753</td>\n",
       "      <td>0.720428</td>\n",
       "      <td>1.0</td>\n",
       "    </tr>\n",
       "    <tr>\n",
       "      <th>4</th>\n",
       "      <td>74859</td>\n",
       "      <td>4349</td>\n",
       "      <td>0.00000</td>\n",
       "      <td>0.352941</td>\n",
       "      <td>0.567900</td>\n",
       "      <td>1.000000</td>\n",
       "      <td>0.112855</td>\n",
       "      <td>0.011521</td>\n",
       "      <td>0.005829</td>\n",
       "      <td>0.428571</td>\n",
       "      <td>0.075287</td>\n",
       "      <td>0.887145</td>\n",
       "      <td>1.0</td>\n",
       "    </tr>\n",
       "  </tbody>\n",
       "</table>\n",
       "</div>"
      ],
      "text/plain": [
       "   userid  itemid     vote  main_cat     brand     price  DaysPassed  \\\n",
       "0  102179   37138  0.00000  0.352941  0.699413  0.988915    0.109837   \n",
       "1    3625   17322  0.00000  0.352941  0.846267  0.202999    0.142577   \n",
       "2   39495    5600  0.01722  0.352941  0.894203  1.000000    0.124925   \n",
       "3   72854   30249  0.00000  0.352941  0.308707  0.715062    0.279572   \n",
       "4   74859    4349  0.00000  0.352941  0.567900  1.000000    0.112855   \n",
       "\n",
       "   num_of_items_per_user  num_of_users_per_item       ft1       ft2   weights  \\\n",
       "0               0.011521               0.001275  0.285714  0.037089  0.890163   \n",
       "1               0.105991               0.012022  0.285714  0.043100  0.857423   \n",
       "2               0.029954               0.193078  1.000000  0.239156  0.875075   \n",
       "3               0.018433               0.040619  0.571429  0.204753  0.720428   \n",
       "4               0.011521               0.005829  0.428571  0.075287  0.887145   \n",
       "\n",
       "   rating  \n",
       "0     1.0  \n",
       "1     1.0  \n",
       "2     1.0  \n",
       "3     1.0  \n",
       "4     1.0  "
      ]
     },
     "execution_count": 19,
     "metadata": {},
     "output_type": "execute_result"
    }
   ],
   "source": [
    "train = data_preparation(train)\n",
    "train = train[['userid', 'itemid','vote', 'main_cat', 'brand', 'price', 'DaysPassed', 'num_of_items_per_user', 'num_of_users_per_item', 'ft1','ft2','weights','rating']]\n",
    "train.to_csv('train_working.csv')\n",
    "train.head()"
   ]
  },
  {
   "cell_type": "markdown",
   "execution_count": null,
   "metadata": {},
   "source": [
    "Посмотрим, как рапределены рейтинги по брендам и по категориям:"
   ]
  },
  {
   "cell_type": "code",
   "execution_count": 20,
   "metadata": {
    "_kg_hide-input": true
   },
   "outputs": [
    {
     "data": {
      "text/plain": [
       "<matplotlib.axes._subplots.AxesSubplot at 0x7f5cdad001d0>"
      ]
     },
     "execution_count": 20,
     "metadata": {},
     "output_type": "execute_result"
    },
    {
     "data": {
      "image/png": "[encoded data removed]",
      "text/plain": [
       "<Figure size 432x288 with 1 Axes>"
      ]
     },
     "metadata": {
      "needs_background": "light"
     },
     "output_type": "display_data"
    }
   ],
   "source": [
    "#посмотрим на распределение рейтингов по brandам\n",
    "brands = pd.DataFrame(train.groupby('brand')['rating'].count())\n",
    "active_brands= brands.head(30).sort_values('rating', ascending=False)\n",
    "active_brands.head(30).plot(kind = \"bar\")"
   ]
  },
  {
   "cell_type": "code",
   "execution_count": 21,
   "metadata": {
    "_kg_hide-input": true
   },
   "outputs": [
    {
     "data": {
      "text/plain": [
       "<matplotlib.axes._subplots.AxesSubplot at 0x7f5cdad6ce90>"
      ]
     },
     "execution_count": 21,
     "metadata": {},
     "output_type": "execute_result"
    },
    {
     "data": {
      "image/png": "[encoded data removed]",
      "text/plain": [
       "<Figure size 432x288 with 1 Axes>"
      ]
     },
     "metadata": {
      "needs_background": "light"
     },
     "output_type": "display_data"
    }
   ],
   "source": [
    "#посмотрим на распределение рейтингов по категориям\n",
    "brands = pd.DataFrame(train.groupby('main_cat')['rating'].count())\n",
    "active_brands= brands.head(30).sort_values('rating', ascending=False)\n",
    "active_brands.head(30).plot(kind = \"bar\")"
   ]
  },
  {
   "cell_type": "markdown",
   "execution_count": null,
   "metadata": {},
   "source": [
    "Графики показывают, что для брендов есть топ 3 явно выраженных лидера. Аналогично, для main_cat есть категория grossery, значительно превосходящая по числу остальные категории"
   ]
  },
  {
   "cell_type": "markdown",
   "execution_count": null,
   "metadata": {},
   "source": [
    "Посмотрим на корреляции в трейне:"
   ]
  },
  {
   "cell_type": "code",
   "execution_count": 22,
   "metadata": {
    "_kg_hide-input": true
   },
   "outputs": [
    {
     "data": {
      "image/png": "[encoded data removed]",
      "text/plain": [
       "<Figure size 936x504 with 2 Axes>"
      ]
     },
     "metadata": {
      "needs_background": "light"
     },
     "output_type": "display_data"
    }
   ],
   "source": [
    "#Посмотрим на корреляции в трейне\n",
    "corr=train.corr()\n",
    "\n",
    "sns.set_context(\"notebook\", font_scale=1.0, rc={\"lines.linewidth\": 2.5})\n",
    "plt.figure(figsize=(13,7))\n",
    "a = sns.heatmap(corr, annot=True, fmt='.2f')\n",
    "rotx = a.set_xticklabels(a.get_xticklabels(), rotation=90)\n",
    "roty = a.set_yticklabels(a.get_yticklabels(), rotation=30)"
   ]
  },
  {
   "cell_type": "markdown",
   "execution_count": null,
   "metadata": {},
   "source": [
    "Анализ показал, что несмотря на генерацию новых фичей, их корреляции достаточно слабы, поэтому для дальнейшего обучения ограничимся только несколькими из них для демонстрации работы алгоритма с матрицей item-features.\n"
   ]
  },
  {
   "cell_type": "markdown",
   "execution_count": null,
   "metadata": {},
   "source": [
    "## 4.Data Preparation & Modelling"
   ]
  },
  {
   "cell_type": "code",
   "execution_count": 23,
   "metadata": {
    "id": "h0B8Yja7LvEW"
   },
   "outputs": [],
   "source": [
    "#Функции для создания списка id для items и users и генерации матриц признаков\n",
    "def generate_int_id(dataframe, id_col_name):\n",
    "    new_dataframe=dataframe.assign(\n",
    "        int_id_col_name=np.arange(len(dataframe))\n",
    "        ).reset_index(drop=True)\n",
    "    return new_dataframe.rename(columns={'int_id_col_name': id_col_name})\n",
    "\n",
    "\n",
    "def create_features(dataframe, features_name, id_col_name):\n",
    "    features = dataframe[features_name].apply(\n",
    "        lambda x: ','.join(x.map(str)), axis=1)\n",
    "    features = features.str.split(',')\n",
    "    features = list(zip(dataframe[id_col_name], features))\n",
    "    return features\n",
    "\n",
    "def generate_feature_list(dataframe, features_name):\n",
    "    features = dataframe[features_name].apply(\n",
    "        lambda x: ','.join(x.map(str)), axis=1)\n",
    "    features = features.str.split(',')\n",
    "    features = features.apply(pd.Series).stack().reset_index(drop=True)\n",
    "    return features\n"
   ]
  },
  {
   "cell_type": "code",
   "execution_count": 24,
   "metadata": {
    "id": "T7BzQnvTMZWH"
   },
   "outputs": [],
   "source": [
    "#Формируем списки Id для пользователей и продуктов\n",
    "train = generate_int_id(train, 'userid_num')\n",
    "train = generate_int_id(train, 'itemid_num')\n",
    "\n",
    "list_item_features =['DaysPassed','num_of_items_per_user','ft1'] \n",
    "\n",
    "# создание признаков для передачи в алгоритм\n",
    "train['item_features'] = create_features(train, list_item_features, 'itemid_num')\n",
    "\n",
    "# генерация списка признаков\n",
    "item_feature_list = generate_feature_list(train,list_item_features)\n",
    "\n",
    "# Построение матрицы через датасет lightfm\n",
    "\n",
    "dataset = Dataset()\n",
    "dataset.fit(\n",
    "    set(train['userid_num']), \n",
    "    set(train['itemid_num']),\n",
    "    user_features=None, \n",
    "    item_features=item_feature_list)\n",
    " \n",
    "item_features = dataset.build_item_features(train['item_features'])\n",
    "#user_features = dataset.build_user_features(df['user_features'])    "
   ]
  },
  {
   "cell_type": "code",
   "execution_count": 25,
   "metadata": {
    "id": "50RAEhOg5lw9"
   },
   "outputs": [],
   "source": [
    "# Подготавливаем данные: разбиваем выборку на обучение и тест и генерируем матрицы\n",
    "train_data, test_data = train_test_split(train,random_state=12, shuffle=True)\n",
    "\n",
    "ratings_coo = sparse.coo_matrix((train_data['rating'].astype(int),\n",
    "                                 (train_data['userid'],\n",
    "                                  train_data['itemid'])))\n",
    "sample_weights = sparse.coo_matrix((train_data['weights'], (train_data['userid'],\n",
    "                                  train_data['itemid'])))"
   ]
  },
  {
   "cell_type": "code",
   "execution_count": 26,
   "metadata": {
    "id": "jB0ZGRQn5l--"
   },
   "outputs": [
    {
     "data": {
      "text/plain": [
       "0.6842911446429982"
      ]
     },
     "execution_count": 26,
     "metadata": {},
     "output_type": "execute_result"
    }
   ],
   "source": [
    "#Обучаем модель\n",
    "model = LightFM (learning_rate=0.1, \n",
    "                loss='logistic',\n",
    "                learning_schedule= 'adagrad',\n",
    "                no_components=120)\n",
    "model = model.fit(ratings_coo, \n",
    "                  sample_weight = sample_weights, \n",
    "                  item_features = item_features,\n",
    "                  epochs=20,  \n",
    "                  num_threads=4)\n",
    "\n",
    "model.item_biases *= 1.0\n",
    "preds = model.predict(test_data['userid'].values,\n",
    "                      test_data['itemid'].values,\n",
    "                      item_features = item_features)\n",
    "\n",
    "roc_auc_score(test_data.rating, preds)"
   ]
  },
  {
   "cell_type": "markdown",
   "execution_count": null,
   "metadata": {},
   "source": [
    "Посмотрим на результат работы алгоритма без матрицы признаков:"
   ]
  },
  {
   "cell_type": "code",
   "execution_count": 27,
   "metadata": {},
   "outputs": [
    {
     "data": {
      "text/plain": [
       "0.753126075121926"
      ]
     },
     "execution_count": 27,
     "metadata": {},
     "output_type": "execute_result"
    }
   ],
   "source": [
    "#Обучаем модель без признаков\n",
    "model = LightFM (learning_rate=0.1, \n",
    "                loss='logistic',\n",
    "                learning_schedule= 'adagrad',\n",
    "                no_components=120)\n",
    "model = model.fit(ratings_coo, \n",
    "                  sample_weight = sample_weights, \n",
    "                  epochs=20,  \n",
    "                  num_threads=4)\n",
    "\n",
    "model.item_biases *= 1.0\n",
    "preds = model.predict(test_data['userid'].values,\n",
    "                      test_data['itemid'].values)\n",
    "\n",
    "roc_auc_score(test_data.rating, preds)"
   ]
  },
  {
   "cell_type": "markdown",
   "execution_count": null,
   "metadata": {},
   "source": [
    "Результ Auc Roc получился лучше, чем при использовании признаков. Возьмем данный вариант за основу для дальнейшей оптимизации гиперпараметров."
   ]
  },
  {
   "cell_type": "markdown",
   "execution_count": null,
   "metadata": {
    "id": "gGxGw_NKPZwL"
   },
   "source": [
    "## 5. Algorythm Optimization"
   ]
  },
  {
   "cell_type": "code",
   "execution_count": 28,
   "metadata": {
    "_kg_hide-output": true,
    "id": "zbgv0iGrLhU6",
    "outputId": "03585b0b-d19a-487d-a425-3d1900361e03"
   },
   "outputs": [
    {
     "ename": "CalledProcessError",
     "evalue": "Command 'b'\\nimport itertools\\n\\ndef sample_hyperparameters():\\n    while True:\\n        yield {\\n            \"no_components\": np.random.randint(30, 200),\\n            \"loss\": np.random.choice([\"logistic\", \"bpr\",\"warp\"]),\\n            \"learning_schedule\": np.random.choice([\"adagrad\", \"adadelta\"]),\\n            \"learning_rate\": np.random.exponential(0.05),\\n            \"num_epochs\": np.random.randint(5, 50),\\n        }\\n\\n\\ndef random_search(train, test, num_samples=10, num_threads=1):\\n    for hyperparams in itertools.islice(sample_hyperparameters(), num_samples):\\n        num_epochs = hyperparams.pop(\"num_epochs\")\\n\\n        model = LightFM(**hyperparams)\\n        model.fit(train, epochs=num_epochs, num_threads=num_threads)\\n        preds = model.predict(test_data[\\'userid\\'].values,\\n                      test_data[\\'itemid\\'].values)\\n        score = roc_auc_score(test_data.rating,preds)\\n        \\n        hyperparams[\"num_epochs\"] = num_epochs\\n\\n        yield (score, hyperparams, model)\\n\\n(score, hyperparams, model) = max(random_search(ratings_coo, test_data, num_samples=50), key=lambda x: x[0])\\nprint(f\"Best score {score} at {hyperparams}\")\\n'' returned non-zero exit status 1.",
     "output_type": "error",
     "traceback": [
      "\u001b[0;31m---------------------------------------------------------------------------\u001b[0m",
      "\u001b[0;31mCalledProcessError\u001b[0m                        Traceback (most recent call last)",
      "\u001b[0;32m<ipython-input-28-02491335f5d8>\u001b[0m in \u001b[0;36m<module>\u001b[0;34m\u001b[0m\n\u001b[0;32m----> 1\u001b[0;31m \u001b[0mget_ipython\u001b[0m\u001b[0;34m(\u001b[0m\u001b[0;34m)\u001b[0m\u001b[0;34m.\u001b[0m\u001b[0mrun_cell_magic\u001b[0m\u001b[0;34m(\u001b[0m\u001b[0;34m'script'\u001b[0m\u001b[0;34m,\u001b[0m \u001b[0;34m'false'\u001b[0m\u001b[0;34m,\u001b[0m \u001b[0;34m'\\nimport itertools\\n\\ndef sample_hyperparameters():\\n    while True:\\n        yield {\\n            \"no_components\": np.random.randint(30, 200),\\n            \"loss\": np.random.choice([\"logistic\", \"bpr\",\"warp\"]),\\n            \"learning_schedule\": np.random.choice([\"adagrad\", \"adadelta\"]),\\n            \"learning_rate\": np.random.exponential(0.05),\\n            \"num_epochs\": np.random.randint(5, 50),\\n        }\\n\\n\\ndef random_search(train, test, num_samples=10, num_threads=1):\\n    for hyperparams in itertools.islice(sample_hyperparameters(), num_samples):\\n        num_epochs = hyperparams.pop(\"num_epochs\")\\n\\n        model = LightFM(**hyperparams)\\n        model.fit(train, epochs=num_epochs, num_threads=num_threads)\\n        preds = model.predict(test_data[\\'userid\\'].values,\\n                      test_data[\\'itemid\\'].values)\\n        score = roc_auc_score(test_data.rating,preds)\\n        \\n        hyperparams[\"num_epochs\"] = num_epochs\\n\\n        yield (score, hyperparams, model)\\n\\n(score, hyperparams, model) = max(random_search(ratings_coo, test_data, num_samples=50), key=lambda x: x[0])\\nprint(f\"Best score {score} at {hyperparams}\")\\n'\u001b[0m\u001b[0;34m)\u001b[0m\u001b[0;34m\u001b[0m\u001b[0;34m\u001b[0m\u001b[0m\n\u001b[0m",
      "\u001b[0;32m/opt/conda/lib/python3.7/site-packages/IPython/core/interactiveshell.py\u001b[0m in \u001b[0;36mrun_cell_magic\u001b[0;34m(self, magic_name, line, cell)\u001b[0m\n\u001b[1;32m   2360\u001b[0m             \u001b[0;32mwith\u001b[0m \u001b[0mself\u001b[0m\u001b[0;34m.\u001b[0m\u001b[0mbuiltin_trap\u001b[0m\u001b[0;34m:\u001b[0m\u001b[0;34m\u001b[0m\u001b[0;34m\u001b[0m\u001b[0m\n\u001b[1;32m   2361\u001b[0m                 \u001b[0margs\u001b[0m \u001b[0;34m=\u001b[0m \u001b[0;34m(\u001b[0m\u001b[0mmagic_arg_s\u001b[0m\u001b[0;34m,\u001b[0m \u001b[0mcell\u001b[0m\u001b[0;34m)\u001b[0m\u001b[0;34m\u001b[0m\u001b[0;34m\u001b[0m\u001b[0m\n\u001b[0;32m-> 2362\u001b[0;31m                 \u001b[0mresult\u001b[0m \u001b[0;34m=\u001b[0m \u001b[0mfn\u001b[0m\u001b[0;34m(\u001b[0m\u001b[0;34m*\u001b[0m\u001b[0margs\u001b[0m\u001b[0;34m,\u001b[0m \u001b[0;34m**\u001b[0m\u001b[0mkwargs\u001b[0m\u001b[0;34m)\u001b[0m\u001b[0;34m\u001b[0m\u001b[0;34m\u001b[0m\u001b[0m\n\u001b[0m\u001b[1;32m   2363\u001b[0m             \u001b[0;32mreturn\u001b[0m \u001b[0mresult\u001b[0m\u001b[0;34m\u001b[0m\u001b[0;34m\u001b[0m\u001b[0m\n\u001b[1;32m   2364\u001b[0m \u001b[0;34m\u001b[0m\u001b[0m\n",
      "\u001b[0;32m<decorator-gen-110>\u001b[0m in \u001b[0;36mshebang\u001b[0;34m(self, line, cell)\u001b[0m\n",
      "\u001b[0;32m/opt/conda/lib/python3.7/site-packages/IPython/core/magic.py\u001b[0m in \u001b[0;36m<lambda>\u001b[0;34m(f, *a, **k)\u001b[0m\n\u001b[1;32m    185\u001b[0m     \u001b[0;31m# but it's overkill for just that one bit of state.\u001b[0m\u001b[0;34m\u001b[0m\u001b[0;34m\u001b[0m\u001b[0;34m\u001b[0m\u001b[0m\n\u001b[1;32m    186\u001b[0m     \u001b[0;32mdef\u001b[0m \u001b[0mmagic_deco\u001b[0m\u001b[0;34m(\u001b[0m\u001b[0marg\u001b[0m\u001b[0;34m)\u001b[0m\u001b[0;34m:\u001b[0m\u001b[0;34m\u001b[0m\u001b[0;34m\u001b[0m\u001b[0m\n\u001b[0;32m--> 187\u001b[0;31m         \u001b[0mcall\u001b[0m \u001b[0;34m=\u001b[0m \u001b[0;32mlambda\u001b[0m \u001b[0mf\u001b[0m\u001b[0;34m,\u001b[0m \u001b[0;34m*\u001b[0m\u001b[0ma\u001b[0m\u001b[0;34m,\u001b[0m \u001b[0;34m**\u001b[0m\u001b[0mk\u001b[0m\u001b[0;34m:\u001b[0m \u001b[0mf\u001b[0m\u001b[0;34m(\u001b[0m\u001b[0;34m*\u001b[0m\u001b[0ma\u001b[0m\u001b[0;34m,\u001b[0m \u001b[0;34m**\u001b[0m\u001b[0mk\u001b[0m\u001b[0;34m)\u001b[0m\u001b[0;34m\u001b[0m\u001b[0;34m\u001b[0m\u001b[0m\n\u001b[0m\u001b[1;32m    188\u001b[0m \u001b[0;34m\u001b[0m\u001b[0m\n\u001b[1;32m    189\u001b[0m         \u001b[0;32mif\u001b[0m \u001b[0mcallable\u001b[0m\u001b[0;34m(\u001b[0m\u001b[0marg\u001b[0m\u001b[0;34m)\u001b[0m\u001b[0;34m:\u001b[0m\u001b[0;34m\u001b[0m\u001b[0;34m\u001b[0m\u001b[0m\n",
      "\u001b[0;32m/opt/conda/lib/python3.7/site-packages/IPython/core/magics/script.py\u001b[0m in \u001b[0;36mshebang\u001b[0;34m(self, line, cell)\u001b[0m\n\u001b[1;32m    243\u001b[0m             \u001b[0msys\u001b[0m\u001b[0;34m.\u001b[0m\u001b[0mstderr\u001b[0m\u001b[0;34m.\u001b[0m\u001b[0mflush\u001b[0m\u001b[0;34m(\u001b[0m\u001b[0;34m)\u001b[0m\u001b[0;34m\u001b[0m\u001b[0;34m\u001b[0m\u001b[0m\n\u001b[1;32m    244\u001b[0m         \u001b[0;32mif\u001b[0m \u001b[0margs\u001b[0m\u001b[0;34m.\u001b[0m\u001b[0mraise_error\u001b[0m \u001b[0;32mand\u001b[0m \u001b[0mp\u001b[0m\u001b[0;34m.\u001b[0m\u001b[0mreturncode\u001b[0m\u001b[0;34m!=\u001b[0m\u001b[0;36m0\u001b[0m\u001b[0;34m:\u001b[0m\u001b[0;34m\u001b[0m\u001b[0;34m\u001b[0m\u001b[0m\n\u001b[0;32m--> 245\u001b[0;31m             \u001b[0;32mraise\u001b[0m \u001b[0mCalledProcessError\u001b[0m\u001b[0;34m(\u001b[0m\u001b[0mp\u001b[0m\u001b[0;34m.\u001b[0m\u001b[0mreturncode\u001b[0m\u001b[0;34m,\u001b[0m \u001b[0mcell\u001b[0m\u001b[0;34m,\u001b[0m \u001b[0moutput\u001b[0m\u001b[0;34m=\u001b[0m\u001b[0mout\u001b[0m\u001b[0;34m,\u001b[0m \u001b[0mstderr\u001b[0m\u001b[0;34m=\u001b[0m\u001b[0merr\u001b[0m\u001b[0;34m)\u001b[0m\u001b[0;34m\u001b[0m\u001b[0;34m\u001b[0m\u001b[0m\n\u001b[0m\u001b[1;32m    246\u001b[0m \u001b[0;34m\u001b[0m\u001b[0m\n\u001b[1;32m    247\u001b[0m     \u001b[0;32mdef\u001b[0m \u001b[0m_run_script\u001b[0m\u001b[0;34m(\u001b[0m\u001b[0mself\u001b[0m\u001b[0;34m,\u001b[0m \u001b[0mp\u001b[0m\u001b[0;34m,\u001b[0m \u001b[0mcell\u001b[0m\u001b[0;34m,\u001b[0m \u001b[0mto_close\u001b[0m\u001b[0;34m)\u001b[0m\u001b[0;34m:\u001b[0m\u001b[0;34m\u001b[0m\u001b[0;34m\u001b[0m\u001b[0m\n",
      "\u001b[0;31mCalledProcessError\u001b[0m: Command 'b'\\nimport itertools\\n\\ndef sample_hyperparameters():\\n    while True:\\n        yield {\\n            \"no_components\": np.random.randint(30, 200),\\n            \"loss\": np.random.choice([\"logistic\", \"bpr\",\"warp\"]),\\n            \"learning_schedule\": np.random.choice([\"adagrad\", \"adadelta\"]),\\n            \"learning_rate\": np.random.exponential(0.05),\\n            \"num_epochs\": np.random.randint(5, 50),\\n        }\\n\\n\\ndef random_search(train, test, num_samples=10, num_threads=1):\\n    for hyperparams in itertools.islice(sample_hyperparameters(), num_samples):\\n        num_epochs = hyperparams.pop(\"num_epochs\")\\n\\n        model = LightFM(**hyperparams)\\n        model.fit(train, epochs=num_epochs, num_threads=num_threads)\\n        preds = model.predict(test_data[\\'userid\\'].values,\\n                      test_data[\\'itemid\\'].values)\\n        score = roc_auc_score(test_data.rating,preds)\\n        \\n        hyperparams[\"num_epochs\"] = num_epochs\\n\\n        yield (score, hyperparams, model)\\n\\n(score, hyperparams, model) = max(random_search(ratings_coo, test_data, num_samples=50), key=lambda x: x[0])\\nprint(f\"Best score {score} at {hyperparams}\")\\n'' returned non-zero exit status 1."
     ]
    }
   ],
   "source": [
    "%%script false\n",
    "\n",
    "import itertools\n",
    "\n",
    "def sample_hyperparameters():\n",
    "    while True:\n",
    "        yield {\n",
    "            \"no_components\": np.random.randint(30, 200),\n",
    "            \"loss\": np.random.choice([\"logistic\", \"bpr\",\"warp\"]),\n",
    "            \"learning_schedule\": np.random.choice([\"adagrad\", \"adadelta\"]),\n",
    "            \"learning_rate\": np.random.exponential(0.05),\n",
    "            \"num_epochs\": np.random.randint(5, 50),\n",
    "        }\n",
    "\n",
    "\n",
    "def random_search(train, test, num_samples=10, num_threads=1):\n",
    "    for hyperparams in itertools.islice(sample_hyperparameters(), num_samples):\n",
    "        num_epochs = hyperparams.pop(\"num_epochs\")\n",
    "\n",
    "        model = LightFM(**hyperparams)\n",
    "        model.fit(train, epochs=num_epochs, num_threads=num_threads)\n",
    "        preds = model.predict(test_data['userid'].values,\n",
    "                      test_data['itemid'].values)\n",
    "        score = roc_auc_score(test_data.rating,preds)\n",
    "        \n",
    "        hyperparams[\"num_epochs\"] = num_epochs\n",
    "\n",
    "        yield (score, hyperparams, model)\n",
    "\n",
    "(score, hyperparams, model) = max(random_search(ratings_coo, test_data, num_samples=50), key=lambda x: x[0])\n",
    "print(f\"Best score {score} at {hyperparams}\")\n"
   ]
  },
  {
   "cell_type": "markdown",
   "execution_count": null,
   "metadata": {
    "id": "sg9wMRtNGYCG"
   },
   "source": [
    "Параметры, получившиеся при оптимизации:\n",
    "\n",
    "Best score 0.7509268739485053\n",
    "\n",
    "{'no_components': 170, 'loss': 'logistic', 'learning_schedule': 'adagrad', 'learning_rate': 0.06302151135470872, 'num_epochs': 32}"
   ]
  },
  {
   "cell_type": "code",
   "execution_count": 29,
   "metadata": {},
   "outputs": [
    {
     "data": {
      "text/plain": [
       "0.7507267352202238"
      ]
     },
     "execution_count": 29,
     "metadata": {},
     "output_type": "execute_result"
    }
   ],
   "source": [
    "#Model fitting\n",
    "model = LightFM (learning_rate=0.06302151135470872, \n",
    "                loss='logistic',\n",
    "                learning_schedule= 'adagrad',\n",
    "                no_components=170)\n",
    "model = model.fit(ratings_coo, \n",
    "                  sample_weight = sample_weights, \n",
    "                  epochs=32,  \n",
    "                  num_threads=4)\n",
    "\n",
    "model.item_biases *= 1.0\n",
    "preds = model.predict(test_data['userid'].values,\n",
    "                      test_data['itemid'].values)\n",
    "\n",
    "roc_auc_score(test_data.rating, preds)"
   ]
  },
  {
   "cell_type": "code",
   "execution_count": 30,
   "metadata": {
    "id": "xj5_Od2JdDFF"
   },
   "outputs": [
    {
     "name": "stdout",
     "output_type": "stream",
     "text": [
      "Train recall: 0.10\n",
      "Train precision: 0.09\n"
     ]
    }
   ],
   "source": [
    "print(\"Train recall: %.2f\" % recall_at_k(model, ratings_coo, k=5).mean())\n",
    "print(\"Train precision: %.2f\" % precision_at_k(model, ratings_coo, k=5).mean())"
   ]
  },
  {
   "cell_type": "markdown",
   "execution_count": null,
   "metadata": {},
   "source": [
    "## 6.Submission preparation"
   ]
  },
  {
   "cell_type": "markdown",
   "execution_count": null,
   "metadata": {},
   "source": [
    "Подготовим тест для формирования предсказаний:"
   ]
  },
  {
   "cell_type": "code",
   "execution_count": 31,
   "metadata": {
    "_kg_hide-input": true
   },
   "outputs": [
    {
     "data": {
      "text/html": [
       "<div>\n",
       "<style scoped>\n",
       "    .dataframe tbody tr th:only-of-type {\n",
       "        vertical-align: middle;\n",
       "    }\n",
       "\n",
       "    .dataframe tbody tr th {\n",
       "        vertical-align: top;\n",
       "    }\n",
       "\n",
       "    .dataframe thead th {\n",
       "        text-align: right;\n",
       "    }\n",
       "</style>\n",
       "<table border=\"1\" class=\"dataframe\">\n",
       "  <thead>\n",
       "    <tr style=\"text-align: right;\">\n",
       "      <th></th>\n",
       "      <th>userid</th>\n",
       "      <th>itemid</th>\n",
       "      <th>vote</th>\n",
       "      <th>main_cat</th>\n",
       "      <th>brand</th>\n",
       "      <th>price</th>\n",
       "      <th>DaysPassed</th>\n",
       "      <th>num_of_items_per_user</th>\n",
       "      <th>num_of_users_per_item</th>\n",
       "      <th>ft1</th>\n",
       "      <th>ft2</th>\n",
       "    </tr>\n",
       "  </thead>\n",
       "  <tbody>\n",
       "    <tr>\n",
       "      <th>0</th>\n",
       "      <td>68877</td>\n",
       "      <td>7506</td>\n",
       "      <td>0.000000</td>\n",
       "      <td>0.352941</td>\n",
       "      <td>0.665110</td>\n",
       "      <td>0.624721</td>\n",
       "      <td>0.122610</td>\n",
       "      <td>0.022059</td>\n",
       "      <td>0.002111</td>\n",
       "      <td>0.857143</td>\n",
       "      <td>0.198075</td>\n",
       "    </tr>\n",
       "    <tr>\n",
       "      <th>1</th>\n",
       "      <td>50442</td>\n",
       "      <td>15530</td>\n",
       "      <td>0.000774</td>\n",
       "      <td>0.352941</td>\n",
       "      <td>0.014248</td>\n",
       "      <td>0.777380</td>\n",
       "      <td>0.260986</td>\n",
       "      <td>0.014706</td>\n",
       "      <td>0.001055</td>\n",
       "      <td>1.000000</td>\n",
       "      <td>0.383812</td>\n",
       "    </tr>\n",
       "    <tr>\n",
       "      <th>2</th>\n",
       "      <td>64349</td>\n",
       "      <td>15049</td>\n",
       "      <td>0.000000</td>\n",
       "      <td>0.352941</td>\n",
       "      <td>0.355843</td>\n",
       "      <td>0.820966</td>\n",
       "      <td>0.206642</td>\n",
       "      <td>0.014706</td>\n",
       "      <td>0.001055</td>\n",
       "      <td>0.285714</td>\n",
       "      <td>0.054404</td>\n",
       "    </tr>\n",
       "    <tr>\n",
       "      <th>3</th>\n",
       "      <td>26206</td>\n",
       "      <td>11957</td>\n",
       "      <td>0.000000</td>\n",
       "      <td>0.411765</td>\n",
       "      <td>0.630148</td>\n",
       "      <td>0.017881</td>\n",
       "      <td>0.244549</td>\n",
       "      <td>0.007353</td>\n",
       "      <td>0.004222</td>\n",
       "      <td>1.000000</td>\n",
       "      <td>0.366454</td>\n",
       "    </tr>\n",
       "    <tr>\n",
       "      <th>4</th>\n",
       "      <td>59366</td>\n",
       "      <td>12173</td>\n",
       "      <td>0.001161</td>\n",
       "      <td>0.352941</td>\n",
       "      <td>0.164033</td>\n",
       "      <td>0.485025</td>\n",
       "      <td>0.299564</td>\n",
       "      <td>0.051471</td>\n",
       "      <td>0.040633</td>\n",
       "      <td>0.142857</td>\n",
       "      <td>0.000000</td>\n",
       "    </tr>\n",
       "  </tbody>\n",
       "</table>\n",
       "</div>"
      ],
      "text/plain": [
       "   userid  itemid      vote  main_cat     brand     price  DaysPassed  \\\n",
       "0   68877    7506  0.000000  0.352941  0.665110  0.624721    0.122610   \n",
       "1   50442   15530  0.000774  0.352941  0.014248  0.777380    0.260986   \n",
       "2   64349   15049  0.000000  0.352941  0.355843  0.820966    0.206642   \n",
       "3   26206   11957  0.000000  0.411765  0.630148  0.017881    0.244549   \n",
       "4   59366   12173  0.001161  0.352941  0.164033  0.485025    0.299564   \n",
       "\n",
       "   num_of_items_per_user  num_of_users_per_item       ft1       ft2  \n",
       "0               0.022059               0.002111  0.857143  0.198075  \n",
       "1               0.014706               0.001055  1.000000  0.383812  \n",
       "2               0.014706               0.001055  0.285714  0.054404  \n",
       "3               0.007353               0.004222  1.000000  0.366454  \n",
       "4               0.051471               0.040633  0.142857  0.000000  "
      ]
     },
     "execution_count": 31,
     "metadata": {},
     "output_type": "execute_result"
    }
   ],
   "source": [
    "test = data_preparation(test)\n",
    "test = test[['userid', 'itemid','vote', 'main_cat', 'brand', 'price', 'DaysPassed', 'num_of_items_per_user', 'num_of_users_per_item', 'ft1','ft2']]\n",
    "test.to_csv('test_working.csv')\n",
    "test.head() "
   ]
  },
  {
   "cell_type": "markdown",
   "execution_count": null,
   "metadata": {
    "id": "3zbb-FwYk_QI"
   },
   "source": [
    "Делаем предсказания для тестового файла и записываем итоговые предсказания в submission:"
   ]
  },
  {
   "cell_type": "code",
   "execution_count": 32,
   "metadata": {
    "_kg_hide-input": true,
    "id": "4ChW3ONQjTqu"
   },
   "outputs": [],
   "source": [
    "test = generate_int_id(test, 'userid_num')\n",
    "test = generate_int_id(test, 'itemid_num')\n",
    "\n",
    "test['item_features'] = create_features(test, list_item_features, 'itemid_num')\n",
    "\n",
    "item_feature_list_test = generate_feature_list(test,list_item_features)\n",
    "\n",
    "dataset_test = Dataset()\n",
    "dataset_test.fit(\n",
    "    set(test['userid_num']), \n",
    "    set(test['itemid_num']),\n",
    "    user_features=None, \n",
    "    item_features=item_feature_list_test)\n",
    "\n",
    "item_features_test = dataset_test.build_item_features(test['item_features'])"
   ]
  },
  {
   "cell_type": "code",
   "execution_count": 33,
   "metadata": {
    "id": "3olulE4XZhou",
    "outputId": "4e5d0555-58c9-4c7c-a0b0-d3516a06f62a"
   },
   "outputs": [
    {
     "data": {
      "text/plain": [
       "(-36.31490707397461, 33.98290252685547)"
      ]
     },
     "execution_count": 33,
     "metadata": {},
     "output_type": "execute_result"
    }
   ],
   "source": [
    "preds = model.predict(test.userid.values,\n",
    "                      test.itemid.values)\n",
    "\n",
    "preds.min(), preds.max()"
   ]
  },
  {
   "cell_type": "code",
   "execution_count": 34,
   "metadata": {
    "id": "OHoK-jsG5mZi",
    "outputId": "5d069f2b-6b55-4bff-fd38-d4dd7f7df4ab"
   },
   "outputs": [
    {
     "data": {
      "text/plain": [
       "(0.0, 1.0)"
      ]
     },
     "execution_count": 34,
     "metadata": {},
     "output_type": "execute_result"
    }
   ],
   "source": [
    "normalized_preds = (preds - preds.min())/(preds - preds.min()).max()\n",
    "normalized_preds.min(), normalized_preds.max()"
   ]
  },
  {
   "cell_type": "code",
   "execution_count": 35,
   "metadata": {
    "id": "ar5uzM3M6ZUl",
    "outputId": "5055f46c-4382-4645-9247-deb0a655fafa"
   },
   "outputs": [],
   "source": [
    "submission['rating']= normalized_preds"
   ]
  },
  {
   "cell_type": "code",
   "execution_count": 36,
   "metadata": {
    "id": "coU6RpAay2IG"
   },
   "outputs": [
    {
     "data": {
      "text/html": [
       "<div>\n",
       "<style scoped>\n",
       "    .dataframe tbody tr th:only-of-type {\n",
       "        vertical-align: middle;\n",
       "    }\n",
       "\n",
       "    .dataframe tbody tr th {\n",
       "        vertical-align: top;\n",
       "    }\n",
       "\n",
       "    .dataframe thead th {\n",
       "        text-align: right;\n",
       "    }\n",
       "</style>\n",
       "<table border=\"1\" class=\"dataframe\">\n",
       "  <thead>\n",
       "    <tr style=\"text-align: right;\">\n",
       "      <th></th>\n",
       "      <th>Id</th>\n",
       "      <th>rating</th>\n",
       "    </tr>\n",
       "  </thead>\n",
       "  <tbody>\n",
       "    <tr>\n",
       "      <th>0</th>\n",
       "      <td>0</td>\n",
       "      <td>0.536213</td>\n",
       "    </tr>\n",
       "    <tr>\n",
       "      <th>1</th>\n",
       "      <td>1</td>\n",
       "      <td>0.532834</td>\n",
       "    </tr>\n",
       "    <tr>\n",
       "      <th>2</th>\n",
       "      <td>2</td>\n",
       "      <td>0.517915</td>\n",
       "    </tr>\n",
       "    <tr>\n",
       "      <th>3</th>\n",
       "      <td>3</td>\n",
       "      <td>0.522106</td>\n",
       "    </tr>\n",
       "    <tr>\n",
       "      <th>4</th>\n",
       "      <td>4</td>\n",
       "      <td>0.546422</td>\n",
       "    </tr>\n",
       "  </tbody>\n",
       "</table>\n",
       "</div>"
      ],
      "text/plain": [
       "   Id    rating\n",
       "0   0  0.536213\n",
       "1   1  0.532834\n",
       "2   2  0.517915\n",
       "3   3  0.522106\n",
       "4   4  0.546422"
      ]
     },
     "execution_count": 36,
     "metadata": {},
     "output_type": "execute_result"
    }
   ],
   "source": [
    "submission.to_csv('submission_lfm_v3.csv', index=False)\n",
    "\n",
    "submission.head()"
   ]
  },
  {
   "cell_type": "markdown",
   "execution_count": null,
   "metadata": {
    "id": "E4zs4Ai6zF9x"
   },
   "source": [
    "## 7. Preparing model for futher deployement\n"
   ]
  },
  {
   "cell_type": "code",
   "execution_count": 37,
   "metadata": {
    "id": "3Vslp-GmzE0N"
   },
   "outputs": [],
   "source": [
    "#model.save('items-recsys_lfm')"
   ]
  },
  {
   "cell_type": "markdown",
   "execution_count": null,
   "metadata": {
    "id": "SnHuOKBGP1N7"
   },
   "source": [
    "Сохранение векторных представлений для дальнейшего деплоя в продакшн:"
   ]
  },
  {
   "cell_type": "code",
   "execution_count": 38,
   "metadata": {
    "id": "h5qTKhJAdCkc"
   },
   "outputs": [],
   "source": [
    "item_biases, item_embeddings = model.get_item_representations()"
   ]
  },
  {
   "cell_type": "code",
   "execution_count": 39,
   "metadata": {
    "id": "C0udbz8yxsh8"
   },
   "outputs": [],
   "source": [
    "#Сохранение векторных представлений для модели\n",
    "import pickle\n",
    "with open('item_embeddings_lfm.pickle', 'wb') as file:\n",
    "    pickle.dump(item_embeddings, file, protocol=pickle.HIGHEST_PROTOCOL)"
   ]
  }
 ],
 "metadata": {
  "kernelspec": {
   "display_name": "Python 3",
   "language": "python",
   "name": "python3"
  },
  "language_info": {
   "codemirror_mode": {
    "name": "ipython",
    "version": 3
   },
   "file_extension": ".py",
   "mimetype": "text/x-python",
   "name": "python",
   "nbconvert_exporter": "python",
   "pygments_lexer": "ipython3",
   "version": "3.7.6"
  }
 },
 "nbformat": 4,
 "nbformat_minor": 4
}
